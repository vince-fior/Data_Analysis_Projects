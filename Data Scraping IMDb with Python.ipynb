{
 "cells": [
  {
   "cell_type": "markdown",
   "id": "af880250",
   "metadata": {},
   "source": [
    "# Introduction"
   ]
  },
  {
   "cell_type": "markdown",
   "id": "8668b98b",
   "metadata": {},
   "source": [
    "The aim of this short project is to create a python program that extrapolates rank, title, release year and rating of the top 250 movies according to IMDb. The data will then be loaded into an Excel file."
   ]
  },
  {
   "cell_type": "markdown",
   "id": "0ff4148c",
   "metadata": {},
   "source": [
    "We will utilise three modules: _requests_ to access the website, _BeautifulSoup_ to extrapolate data from the html code and _openpyxl_ to create and fill the excel document."
   ]
  },
  {
   "cell_type": "markdown",
   "id": "61c3e8c9",
   "metadata": {},
   "source": [
    "# Code"
   ]
  },
  {
   "cell_type": "code",
   "execution_count": 66,
   "id": "7e50ac9c",
   "metadata": {},
   "outputs": [],
   "source": [
    "from bs4 import BeautifulSoup\n",
    "import requests, openpyxl"
   ]
  },
  {
   "cell_type": "markdown",
   "id": "e4431368",
   "metadata": {},
   "source": [
    "We start by creating the excel file and changing the name of sheet and columns."
   ]
  },
  {
   "cell_type": "code",
   "execution_count": 67,
   "id": "17521279",
   "metadata": {},
   "outputs": [
    {
     "name": "stdout",
     "output_type": "stream",
     "text": [
      "['Top Rated Movies']\n"
     ]
    }
   ],
   "source": [
    "excel = openpyxl.Workbook()\n",
    "sheet = excel.active\n",
    "sheet.title = \"Top Rated Movies\"\n",
    "print(excel.sheetnames)\n",
    "\n",
    "sheet.append([\"Movie Rank\",\"Movie Title\",\"Release Year\",\"IMDb Rating\"])\n"
   ]
  },
  {
   "cell_type": "markdown",
   "id": "3a082a4b",
   "metadata": {},
   "source": [
    "We now request access to the website, asking to raise an error if the URL does not exist."
   ]
  },
  {
   "cell_type": "code",
   "execution_count": 68,
   "id": "3005db35",
   "metadata": {},
   "outputs": [],
   "source": [
    "source = requests.get(\"https://www.imdb.com/chart/top/\")\n",
    "\n",
    "#throw error if issues with URL\n",
    "source.raise_for_status()\n"
   ]
  },
  {
   "cell_type": "markdown",
   "id": "5d94f665",
   "metadata": {},
   "source": [
    "The obtained response object _source_ contains the html source code. We parse it using the default parser, returning a BeautifulSoup object."
   ]
  },
  {
   "cell_type": "code",
   "execution_count": 69,
   "id": "b4fb77c2",
   "metadata": {
    "scrolled": true
   },
   "outputs": [],
   "source": [
    "soup = BeautifulSoup(source.text, \"html.parser\")\n",
    "\n",
    "#print(soup)"
   ]
  },
  {
   "cell_type": "markdown",
   "id": "7bfbf5ea",
   "metadata": {},
   "source": [
    "We inspect the html and look for the tags containing the wanted information. The master _tbody_ tag holds the entire movie list, each item stored in its own _tr_ tag. We use the method _find_all_ to obtain a list."
   ]
  },
  {
   "cell_type": "code",
   "execution_count": 70,
   "id": "534881e1",
   "metadata": {
    "scrolled": true
   },
   "outputs": [
    {
     "name": "stdout",
     "output_type": "stream",
     "text": [
      "250\n",
      "<tr>\n",
      "<td class=\"posterColumn\">\n",
      "<span data-value=\"1\" name=\"rk\"></span>\n",
      "<span data-value=\"9.235880042218502\" name=\"ir\"></span>\n",
      "<span data-value=\"7.791552E11\" name=\"us\"></span>\n",
      "<span data-value=\"2727709\" name=\"nv\"></span>\n",
      "<span data-value=\"-1.7641199577814977\" name=\"ur\"></span>\n",
      "<a href=\"/title/tt0111161/\"> <img alt=\"The Shawshank Redemption\" height=\"67\" src=\"https://m.media-amazon.com/images/M/MV5BNDE3ODcxYzMtY2YzZC00NmNlLWJiNDMtZDViZWM2MzIxZDYwXkEyXkFqcGdeQXVyNjAwNDUxODI@._V1_UX45_CR0,0,45,67_AL_.jpg\" width=\"45\"/>\n",
      "</a> </td>\n",
      "<td class=\"titleColumn\">\n",
      "      1.\n",
      "      <a href=\"/title/tt0111161/\" title=\"Frank Darabont (dir.), Tim Robbins, Morgan Freeman\">The Shawshank Redemption</a>\n",
      "<span class=\"secondaryInfo\">(1994)</span>\n",
      "</td>\n",
      "<td class=\"ratingColumn imdbRating\">\n",
      "<strong title=\"9.2 based on 2,727,709 user ratings\">9.2</strong>\n",
      "</td>\n",
      "<td class=\"ratingColumn\">\n",
      "<div class=\"seen-widget seen-widget-tt0111161 pending\" data-titleid=\"tt0111161\">\n",
      "<div class=\"boundary\">\n",
      "<div class=\"popover\">\n",
      "<span class=\"delete\"> </span><ol><li>1<li>2<li>3<li>4<li>5<li>6<li>7<li>8<li>9<li>10</li></li></li></li></li></li></li></li></li></li></ol> </div>\n",
      "</div>\n",
      "<div class=\"inline\">\n",
      "<div class=\"pending\"></div>\n",
      "<div class=\"unseeable\">NOT YET RELEASED</div>\n",
      "<div class=\"unseen\"> </div>\n",
      "<div class=\"rating\"></div>\n",
      "<div class=\"seen\">Seen</div>\n",
      "</div>\n",
      "</div>\n",
      "</td>\n",
      "<td class=\"watchlistColumn\">\n",
      "<div class=\"wlb_ribbon\" data-recordmetrics=\"true\" data-tconst=\"tt0111161\"></div>\n",
      "</td>\n",
      "</tr>\n"
     ]
    }
   ],
   "source": [
    "movies = soup.find(\"tbody\", class_= \"lister-list\").find_all(\"tr\")\n",
    "\n",
    "#Check length of list\n",
    "print(len(movies))\n",
    "\n",
    "#Check the first element\n",
    "print(movies[0])"
   ]
  },
  {
   "cell_type": "markdown",
   "id": "857847fb",
   "metadata": {},
   "source": [
    "We iterate through each element of the list and extrapolate rank, title, year and rating. \n",
    "\n",
    "The _get_text_ method returns the string element contained in the corresponding tag. String methods are used to clean the information.\n",
    "\n",
    "The data is then inserted into the excel file."
   ]
  },
  {
   "cell_type": "code",
   "execution_count": 71,
   "id": "a9719ce0",
   "metadata": {},
   "outputs": [],
   "source": [
    "for movie in movies:\n",
    "    rank = movie.find(\"td\", class_ = \"titleColumn\").get_text(strip = True).split(\".\")[0]\n",
    "    title = movie.find(\"td\", class_ = \"titleColumn\").a.text\n",
    "    year = movie.find(\"td\", class_ = \"titleColumn\").span.text.strip(\"()\")\n",
    "    rating = movie.find(\"td\", class_ = \"ratingColumn imdbRating\").text\n",
    "    \n",
    "    #print(rank, title, year, rating)\n",
    "    \n",
    "    sheet.append([rank, title, year, rating])\n",
    "    "
   ]
  },
  {
   "cell_type": "markdown",
   "id": "eb57bbae",
   "metadata": {},
   "source": [
    "The file is finally saved."
   ]
  },
  {
   "cell_type": "code",
   "execution_count": 72,
   "id": "c60ab218",
   "metadata": {},
   "outputs": [],
   "source": [
    "excel.save(\"IMDb Movie Ratings.xlsx\")\n",
    "\n"
   ]
  }
 ],
 "metadata": {
  "kernelspec": {
   "display_name": "Python 3 (ipykernel)",
   "language": "python",
   "name": "python3"
  },
  "language_info": {
   "codemirror_mode": {
    "name": "ipython",
    "version": 3
   },
   "file_extension": ".py",
   "mimetype": "text/x-python",
   "name": "python",
   "nbconvert_exporter": "python",
   "pygments_lexer": "ipython3",
   "version": "3.9.13"
  }
 },
 "nbformat": 4,
 "nbformat_minor": 5
}
